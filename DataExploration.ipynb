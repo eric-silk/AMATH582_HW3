{
 "cells": [
  {
   "cell_type": "code",
   "execution_count": null,
   "metadata": {},
   "outputs": [],
   "source": [
    "import scipy.io\n",
    "import numpy as np\n",
    "import matplotlib.pyplot as plt\n",
    "import matplotlib.animation as animation\n",
    "import os\n",
    "from skimage import color\n",
    "\n",
    "DATADIR = \"data/\"\n",
    "fnames = os.listdir(DATADIR)\n",
    "fnames = [os.path.join(DATADIR, i) for i in fnames]\n",
    "print(fnames)"
   ]
  },
  {
   "cell_type": "code",
   "execution_count": null,
   "metadata": {},
   "outputs": [],
   "source": [
    "cam1_1 = scipy.io.loadmat(fnames[0])\n",
    "print(cam1_1.keys())\n",
    "cam1_1 = cam1_1['vidFrames1_1']"
   ]
  },
  {
   "cell_type": "code",
   "execution_count": null,
   "metadata": {},
   "outputs": [],
   "source": [
    "print(cam1_1.shape)\n",
    "print(cam1_1[:,:,:,0].shape)\n",
    "y, x, colors, samples = cam1_1.shape"
   ]
  },
  {
   "cell_type": "code",
   "execution_count": null,
   "metadata": {},
   "outputs": [],
   "source": [
    "y, x, _, samples = cam1_1.shape\n",
    "image = cam1_1[..., 0]\n",
    "   \n",
    "f = plt.figure(1)\n",
    "p = f.add_subplot(111)\n",
    "image = p.imshow(image, cmap=\"gray\")       "
   ]
  },
  {
   "cell_type": "code",
   "execution_count": null,
   "metadata": {},
   "outputs": [],
   "source": []
  },
  {
   "cell_type": "code",
   "execution_count": null,
   "metadata": {},
   "outputs": [],
   "source": []
  }
 ],
 "metadata": {
  "kernelspec": {
   "display_name": "Python 3",
   "language": "python",
   "name": "python3"
  },
  "language_info": {
   "codemirror_mode": {
    "name": "ipython",
    "version": 3
   },
   "file_extension": ".py",
   "mimetype": "text/x-python",
   "name": "python",
   "nbconvert_exporter": "python",
   "pygments_lexer": "ipython3",
   "version": "3.7.1"
  }
 },
 "nbformat": 4,
 "nbformat_minor": 4
}
