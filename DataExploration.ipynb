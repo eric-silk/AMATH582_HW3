{
 "cells": [
  {
   "cell_type": "code",
   "execution_count": null,
   "metadata": {},
   "outputs": [],
   "source": [
    "import scipy.io\n",
    "import numpy as np\n",
    "import matplotlib.pyplot as plt\n",
    "import matplotlib.animation as animation\n",
    "import os\n",
    "from skimage import color\n",
    "\n",
    "DATADIR = \"data/\"\n",
    "fnames = os.listdir(DATADIR)\n",
    "fnames = [os.path.join(DATADIR, i) for i in fnames]\n",
    "print(fnames)"
   ]
  },
  {
   "cell_type": "code",
   "execution_count": null,
   "metadata": {},
   "outputs": [],
   "source": [
    "cam1_1 = scipy.io.loadmat(fnames[0])\n",
    "cam1_1.keys()"
   ]
  },
  {
   "cell_type": "code",
   "execution_count": null,
   "metadata": {},
   "outputs": [],
   "source": [
    "print(cam1_1.shape)\n",
    "print(cam1_1[:,:,:,0].shape)\n",
    "y, x, colors, samples = cam1_1.shape"
   ]
  },
  {
   "cell_type": "code",
   "execution_count": null,
   "metadata": {},
   "outputs": [],
   "source": [
    "def greyscale(four_dim_array):\n",
    "    \"\"\"\n",
    "    Assumes the input is [y, x, RGB, sample], reduces to\n",
    "    [y, x, sample]\n",
    "    \"\"\"\n",
    "    y, x, _, samples = four_dim_array.shape\n",
    "    output = np.ndarray((y, x, samples))\n",
    "    f = plt.figure(1)\n",
    "    p = f.add_subplot(111)\n",
    "    image = p.imshow(four_dim_array[:, :, :, 0])\n",
    "    for i in range(1, samples):\n",
    "        tmp = four_dim_array[:, :, :, i]\n",
    "        image.set_data(tmp)\n",
    "        plt.pause(0.02)\n",
    "       "
   ]
  },
  {
   "cell_type": "code",
   "execution_count": null,
   "metadata": {},
   "outputs": [],
   "source": [
    "greyscale(cam1_1)"
   ]
  },
  {
   "cell_type": "code",
   "execution_count": null,
   "metadata": {},
   "outputs": [],
   "source": []
  }
 ],
 "metadata": {
  "kernelspec": {
   "display_name": "Python 3",
   "language": "python",
   "name": "python3"
  },
  "language_info": {
   "codemirror_mode": {
    "name": "ipython",
    "version": 3
   },
   "file_extension": ".py",
   "mimetype": "text/x-python",
   "name": "python",
   "nbconvert_exporter": "python",
   "pygments_lexer": "ipython3",
   "version": "3.7.1"
  }
 },
 "nbformat": 4,
 "nbformat_minor": 4
}
