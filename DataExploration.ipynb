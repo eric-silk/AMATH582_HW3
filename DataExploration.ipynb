{
 "cells": [
  {
   "cell_type": "code",
   "execution_count": null,
   "metadata": {},
   "outputs": [],
   "source": [
    "import os\n",
    "import numpy as np\n",
    "import matplotlib.pyplot as plt\n",
    "%matplotlib inline\n",
    "DATADIR = \"positiondata\""
   ]
  },
  {
   "cell_type": "code",
   "execution_count": null,
   "metadata": {},
   "outputs": [],
   "source": [
    "fnames = os.listdir(DATADIR)\n",
    "case1_cams = [os.path.join(DATADIR, i) for i in fnames if \"_1.npy\" in i]\n",
    "case2_cams = [os.path.join(DATADIR, i) for i in fnames if \"_2.npy\" in i]\n",
    "case3_cams = [os.path.join(DATADIR, i) for i in fnames if \"_3.npy\" in i]\n",
    "case4_cams = [os.path.join(DATADIR, i) for i in fnames if \"_4.npy\" in i]"
   ]
  },
  {
   "cell_type": "code",
   "execution_count": null,
   "metadata": {},
   "outputs": [],
   "source": [
    "def read_case(cams):\n",
    "    cam_names = [i.split(\"_\")[0][-1] for i in cams]\n",
    "    data = [np.load(i) for i in cams]\n",
    "    return list(zip(cam_names, data))"
   ]
  },
  {
   "cell_type": "code",
   "execution_count": null,
   "metadata": {},
   "outputs": [],
   "source": [
    "def plot_case(case, title):\n",
    "    assert(len(case) == 3)\n",
    "    fig, axes = plt.subplots(3, 2, sharex=True, sharey=True)\n",
    "    fig.set_size_inches(8, 10)\n",
    "    fig.suptitle(title)\n",
    "    for i, cam in enumerate(case):\n",
    "        axes[i, 0].title.set_text(\"Camera {}, x\".format(cam[0]))\n",
    "        axes[i, 0].set_xlabel(\"Sample\")\n",
    "        axes[i, 0].set_ylabel(\"Pixel location\")\n",
    "        axes[i, 0].plot(cam[1][0])\n",
    "        axes[i, 1].title.set_text(\"Camera {}, y\".format(cam[0]))\n",
    "        axes[i, 1].set_xlabel(\"Sample\")\n",
    "        axes[i, 1].set_ylabel(\"Pixel location\")\n",
    "        axes[i, 1].plot(cam[1][1])"
   ]
  },
  {
   "cell_type": "code",
   "execution_count": null,
   "metadata": {
    "scrolled": false
   },
   "outputs": [],
   "source": [
    "case_1 = read_case(case1_cams)\n",
    "case_2 = read_case(case2_cams)\n",
    "case_3 = read_case(case3_cams)\n",
    "case_4 = read_case(case4_cams)\n",
    "plot_case(case_1, \"Case 1\")\n",
    "plot_case(case_2, \"Case 2\")\n",
    "plot_case(case_3, \"Case 3\")\n",
    "plot_case(case_4, \"Case 4\")"
   ]
  },
  {
   "cell_type": "code",
   "execution_count": null,
   "metadata": {},
   "outputs": [],
   "source": [
    "#x = np.stack((case_1[0][1], case_1[1][1], case_1[2][1]))\n",
    "def shortest_length(case):\n",
    "    return min([i[1].shape[1] for i in case])\n",
    "\n",
    "def stack_observations(case):\n",
    "    last = shortest_length(case)\n",
    "    arrays = []\n",
    "    for cam in case:\n",
    "        x = cam[1][0][:last]\n",
    "        y = cam[1][1][:last]\n",
    "        arrays.append(x)\n",
    "        arrays.append(y)\n",
    "    return np.stack(tuple(arrays))"
   ]
  },
  {
   "cell_type": "code",
   "execution_count": null,
   "metadata": {},
   "outputs": [],
   "source": [
    "stack_observations(case_1).shape"
   ]
  },
  {
   "cell_type": "code",
   "execution_count": null,
   "metadata": {},
   "outputs": [],
   "source": []
  }
 ],
 "metadata": {
  "kernelspec": {
   "display_name": "Python 3",
   "language": "python",
   "name": "python3"
  },
  "language_info": {
   "codemirror_mode": {
    "name": "ipython",
    "version": 3
   },
   "file_extension": ".py",
   "mimetype": "text/x-python",
   "name": "python",
   "nbconvert_exporter": "python",
   "pygments_lexer": "ipython3",
   "version": "3.7.1"
  }
 },
 "nbformat": 4,
 "nbformat_minor": 4
}
