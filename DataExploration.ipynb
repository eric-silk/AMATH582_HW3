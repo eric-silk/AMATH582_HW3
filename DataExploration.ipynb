{
 "cells": [
  {
   "cell_type": "code",
   "execution_count": null,
   "metadata": {},
   "outputs": [],
   "source": [
    "import scipy.io\n",
    "import numpy as np\n",
    "import matplotlib.pyplot as plt\n",
    "import matplotlib.animation as animation\n",
    "import os\n",
    "import dispvideo as dv\n",
    "\n",
    "DATADIR = \"data/\"\n",
    "fnames = os.listdir(DATADIR)\n",
    "fnames = [os.path.join(DATADIR, i) for i in fnames]\n"
   ]
  },
  {
   "cell_type": "code",
   "execution_count": null,
   "metadata": {},
   "outputs": [],
   "source": [
    "tmp = scipy.io.loadmat(fnames[0])\n",
    "key = [i for i in list(tmp.keys()) if i not in ['__header__', '__version__', '__globals__']][0]\n",
    "print(\"key:\", key)\n",
    "mat = tmp[key]\n",
    "gray = dv.grayscale(mat)\n",
    "# For convenience...\n",
    "gray = np.moveaxis(gray, -1, 0)"
   ]
  },
  {
   "cell_type": "code",
   "execution_count": null,
   "metadata": {},
   "outputs": [],
   "source": [
    "gray.shape"
   ]
  },
  {
   "cell_type": "code",
   "execution_count": null,
   "metadata": {},
   "outputs": [],
   "source": []
  }
 ],
 "metadata": {
  "kernelspec": {
   "display_name": "Python 3",
   "language": "python",
   "name": "python3"
  },
  "language_info": {
   "codemirror_mode": {
    "name": "ipython",
    "version": 3
   },
   "file_extension": ".py",
   "mimetype": "text/x-python",
   "name": "python",
   "nbconvert_exporter": "python",
   "pygments_lexer": "ipython3",
   "version": "3.7.1"
  }
 },
 "nbformat": 4,
 "nbformat_minor": 4
}
