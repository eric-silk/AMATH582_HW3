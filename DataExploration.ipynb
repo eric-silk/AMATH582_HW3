{
 "cells": [
  {
   "cell_type": "code",
   "execution_count": null,
   "metadata": {},
   "outputs": [],
   "source": [
    "import os\n",
    "import numpy as np\n",
    "import matplotlib.pyplot as plt\n",
    "%matplotlib inline\n",
    "DATADIR = \"positiondata\""
   ]
  },
  {
   "cell_type": "code",
   "execution_count": null,
   "metadata": {},
   "outputs": [],
   "source": [
    "fnames = os.listdir(DATADIR)\n",
    "case1_cams = [os.path.join(DATADIR, i) for i in fnames if \"_1.npy\" in i]\n",
    "case2_cams = [os.path.join(DATADIR, i) for i in fnames if \"_2.npy\" in i]\n",
    "case3_cams = [os.path.join(DATADIR, i) for i in fnames if \"_3.npy\" in i]\n",
    "case4_cams = [os.path.join(DATADIR, i) for i in fnames if \"_4.npy\" in i]"
   ]
  },
  {
   "cell_type": "code",
   "execution_count": null,
   "metadata": {},
   "outputs": [],
   "source": [
    "def read_case(cams):\n",
    "    cam_names = [i.split(\"_\")[0][-1] for i in cams]\n",
    "    data = [np.load(i) for i in cams]\n",
    "    return list(zip(cam_names, data))"
   ]
  },
  {
   "cell_type": "code",
   "execution_count": null,
   "metadata": {},
   "outputs": [],
   "source": [
    "def plot_case(case, title):\n",
    "    assert(len(case) == 3)\n",
    "    fig, axes = plt.subplots(3, 2, sharex=True, sharey=True)\n",
    "    fig.set_size_inches(8, 10)\n",
    "    fig.suptitle(title)\n",
    "    for i, cam in enumerate(case):\n",
    "        axes[i, 0].title.set_text(\"Camera {}, x\".format(cam[0]))\n",
    "        axes[i, 0].set_xlabel(\"Sample\")\n",
    "        axes[i, 0].set_ylabel(\"Pixel location\")\n",
    "        axes[i, 0].plot(cam[1][0])\n",
    "        axes[i, 1].title.set_text(\"Camera {}, y\".format(cam[0]))\n",
    "        axes[i, 1].set_xlabel(\"Sample\")\n",
    "        axes[i, 1].set_ylabel(\"Pixel location\")\n",
    "        axes[i, 1].plot(cam[1][1])"
   ]
  },
  {
   "cell_type": "code",
   "execution_count": null,
   "metadata": {
    "scrolled": false
   },
   "outputs": [],
   "source": [
    "case_1 = read_case(case1_cams)\n",
    "case_2 = read_case(case2_cams)\n",
    "case_3 = read_case(case3_cams)\n",
    "case_4 = read_case(case4_cams)\n",
    "plot_case(case_1, \"Case 1\")\n",
    "plot_case(case_2, \"Case 2\")\n",
    "plot_case(case_3, \"Case 3\")\n",
    "plot_case(case_4, \"Case 4\")"
   ]
  },
  {
   "cell_type": "code",
   "execution_count": null,
   "metadata": {},
   "outputs": [],
   "source": [
    "def shortest_length(case):\n",
    "    return min([i[1].shape[1] for i in case])\n",
    "\n",
    "def stack_observations(case):\n",
    "    last = shortest_length(case)\n",
    "    arrays = []\n",
    "    for cam in case:\n",
    "        x = cam[1][0][:last]\n",
    "        y = cam[1][1][:last]\n",
    "        arrays.append(x)\n",
    "        arrays.append(y)\n",
    "    return np.stack(tuple(arrays))"
   ]
  },
  {
   "cell_type": "code",
   "execution_count": null,
   "metadata": {},
   "outputs": [],
   "source": [
    "def kutz_plots(case, modes_to_plot=1):\n",
    "    \"\"\"\n",
    "    Make plots like what DR. Kutz does in his book\n",
    "    \"\"\"\n",
    "    u, s, vh = np.linalg.svd(stack_observations(case))\n",
    "    \n",
    "    fig = plt.figure(figsize=(8, 14))\n",
    "    gs = fig.add_gridspec(3, 2)\n",
    "    ax1 = fig.add_subplot(gs[0, 0])\n",
    "    ax2 = fig.add_subplot(gs[0, 1])\n",
    "    ax3 = fig.add_subplot(gs[1, :])\n",
    "    ax4 = fig.add_subplot(gs[2, :])\n",
    "    \n",
    "    ax1.stem(s, use_line_collection=True)\n",
    "    ax1.set_title(\"Modal Energy\")\n",
    "    ax1.set_xlabel(\"Mode number\")\n",
    "    ax1.set_ylabel(\"Energy\")\n",
    "    \n",
    "    ax2.stem(np.log(s), use_line_collection=True)\n",
    "    ax2.set_title(\"Modal Energy, Semilog\")\n",
    "    ax2.set_xlabel(\"Mode number\")\n",
    "    ax2.set_ylabel(\"Energy\")\n",
    "    \n",
    "    fmts = [\"-\", \"--\"]\n",
    "    for i, fmt in zip(range(modes_to_plot), fmts):\n",
    "        ax3.plot(u[:, i], fmt, label=\"Mode {}\".format(i))\n",
    "        ax4.plot(vh[i, :], label=\"Mode {}\".format(i))\n",
    "\n",
    "    ax3.set_title(\"Modes\")\n",
    "    ax3.set_xlabel(\"x\")\n",
    "    ax3.set_ylabel(\"f(x)\")\n",
    "    ax4.set_title(\"Temporal Behavior of Modes\")\n",
    "    ax4.set_xlabel(\"Time, samples\")\n",
    "    ax4.set_ylabel(\"Magnitude\")\n",
    "    ax3.legend()\n",
    "    ax4.legend()\n",
    "    \n",
    "    plt.show()"
   ]
  },
  {
   "cell_type": "code",
   "execution_count": null,
   "metadata": {
    "scrolled": false
   },
   "outputs": [],
   "source": [
    "kutz_plots(case_1, 2)"
   ]
  },
  {
   "cell_type": "code",
   "execution_count": null,
   "metadata": {},
   "outputs": [],
   "source": [
    "kutz_plots(case_2, 2)"
   ]
  },
  {
   "cell_type": "code",
   "execution_count": null,
   "metadata": {},
   "outputs": [],
   "source": [
    "kutz_plots(case_3, 2)"
   ]
  },
  {
   "cell_type": "code",
   "execution_count": null,
   "metadata": {},
   "outputs": [],
   "source": [
    "kutz_plots(case_4, 2)"
   ]
  },
  {
   "cell_type": "code",
   "execution_count": null,
   "metadata": {},
   "outputs": [],
   "source": [
    "def svd_and_reconstruction(case, modes=None):\n",
    "    u, s, vh = np.linalg.svd(stack_observations(case))\n",
    "    if modes is None:\n",
    "        modes = s.shape[0]    \n",
    "    s_diag = np.zeros((u.shape[0], vh.shape[0]))\n",
    "    s_diag[:u.shape[0], :u.shape[0]] = np.diag(s)\n",
    "        \n",
    "    return np.matmul(np.matmul(u[:,0:modes], s_diag[0:modes,0:modes]), vh[0:modes, :])"
   ]
  },
  {
   "cell_type": "code",
   "execution_count": null,
   "metadata": {},
   "outputs": [],
   "source": [
    "def plot_reconstructed(case, modes):\n",
    "    assert(modes>=1)\n",
    "    x=svd_and_reconstruction(case, modes)\n",
    "    plt.figure()\n",
    "    plt.title(\"Modes: {}\".format(modes))\n",
    "    for i in x:\n",
    "        plt.plot(i)\n",
    "        plt.xlabel(\"Time, samples\")\n",
    "        plt.ylabel(\"Pixel Position\")\n",
    "        \n",
    "def plot_reconstructed_subplots(case):\n",
    "    fig = plt.figure(figsize=(8, 10))\n",
    "    gs = fig.add_gridspec(3, 2)\n",
    "    ax = []\n",
    "    ax.append(fig.add_subplot(gs[0, 0]))\n",
    "    ax.append(fig.add_subplot(gs[0, 1]))\n",
    "    ax.append(fig.add_subplot(gs[1, 0]))\n",
    "    ax.append(fig.add_subplot(gs[1, 1]))\n",
    "    ax.append(fig.add_subplot(gs[2, 0]))\n",
    "    ax.append(fig.add_subplot(gs[2, 1]))\n",
    "    \n",
    "    for modes in range(1, 7):\n",
    "        x=svd_and_reconstruction(case, modes)\n",
    "        for series in x:\n",
    "            ax[modes-1].plot(series)\n",
    "            ax[modes-1].set_title(\"{} modes\".format(modes))"
   ]
  },
  {
   "cell_type": "code",
   "execution_count": null,
   "metadata": {},
   "outputs": [],
   "source": [
    "plot_reconstructed_subplots(case_1)"
   ]
  },
  {
   "cell_type": "code",
   "execution_count": null,
   "metadata": {},
   "outputs": [],
   "source": [
    "plot_reconstructed(case_1, 3)"
   ]
  },
  {
   "cell_type": "code",
   "execution_count": null,
   "metadata": {},
   "outputs": [],
   "source": [
    "plot_reconstructed(case_2, 3)"
   ]
  },
  {
   "cell_type": "code",
   "execution_count": null,
   "metadata": {},
   "outputs": [],
   "source": [
    "plot_reconstructed(case_3, 3)"
   ]
  },
  {
   "cell_type": "code",
   "execution_count": null,
   "metadata": {},
   "outputs": [],
   "source": [
    "plot_reconstructed(case_4, 3)"
   ]
  },
  {
   "cell_type": "code",
   "execution_count": null,
   "metadata": {},
   "outputs": [],
   "source": []
  }
 ],
 "metadata": {
  "kernelspec": {
   "display_name": "Python 3",
   "language": "python",
   "name": "python3"
  },
  "language_info": {
   "codemirror_mode": {
    "name": "ipython",
    "version": 3
   },
   "file_extension": ".py",
   "mimetype": "text/x-python",
   "name": "python",
   "nbconvert_exporter": "python",
   "pygments_lexer": "ipython3",
   "version": "3.7.1"
  }
 },
 "nbformat": 4,
 "nbformat_minor": 4
}
